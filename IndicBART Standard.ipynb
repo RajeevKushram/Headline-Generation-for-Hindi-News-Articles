{
 "cells": [
  {
   "cell_type": "code",
   "execution_count": 1,
   "id": "ab2421e8-0fbe-4173-9971-f8d9b901f838",
   "metadata": {},
   "outputs": [
    {
     "name": "stderr",
     "output_type": "stream",
     "text": [
      "C:\\Users\\Administrator\\AppData\\Local\\Programs\\Python\\Python310\\lib\\site-packages\\tqdm\\auto.py:21: TqdmWarning: IProgress not found. Please update jupyter and ipywidgets. See https://ipywidgets.readthedocs.io/en/stable/user_install.html\n",
      "  from .autonotebook import tqdm as notebook_tqdm\n"
     ]
    }
   ],
   "source": [
    "import json\n",
    "import re\n",
    "import random\n",
    "import evaluate\n",
    "import numpy as np\n",
    "from datasets import Dataset, DatasetDict\n",
    "from transformers import (\n",
    "    AutoTokenizer, \n",
    "    AutoModelForSeq2SeqLM,\n",
    "    Seq2SeqTrainingArguments,\n",
    "    Seq2SeqTrainer,\n",
    "    DataCollatorForSeq2Seq\n",
    ")\n"
   ]
  },
  {
   "cell_type": "code",
   "execution_count": 2,
   "id": "a3af8136-eb6e-4e1b-b29f-2eb115797b19",
   "metadata": {},
   "outputs": [],
   "source": [
    "# Load the .jsonl files\n",
    "def load_jsonl(file_path):\n",
    "    with open(file_path, 'r', encoding='utf-8') as f:\n",
    "        data = [json.loads(line) for line in f]\n",
    "    return data\n",
    "\n",
    "train_data = load_jsonl(\"C:/Users/Administrator/Desktop/final_project/hindi_train.jsonl\")\n",
    "val_data = load_jsonl(\"C:/Users/Administrator/Desktop/final_project/hindi_dev.jsonl\")\n",
    "test_data = load_jsonl(\"C:/Users/Administrator/Desktop/final_project/hindi_test.jsonl\")"
   ]
  },
  {
   "cell_type": "code",
   "execution_count": 3,
   "id": "e2b91142-74b7-4e28-a38a-cc05c9580aef",
   "metadata": {},
   "outputs": [],
   "source": [
    "# Sample data to reduce training time\n",
    "def sample_data(dataset, num_samples):\n",
    "    return random.sample(dataset, num_samples)\n",
    "\n",
    "train_data_sampled = sample_data(train_data, 8000)\n",
    "val_data_sampled = sample_data(val_data, 1500)\n",
    "test_data_sampled = sample_data(test_data, 500)"
   ]
  },
  {
   "cell_type": "code",
   "execution_count": 4,
   "id": "9a88afcf-37df-45a4-9476-8640c20f80af",
   "metadata": {},
   "outputs": [],
   "source": [
    "# Convert to Hugging Face dataset format\n",
    "train_dataset = Dataset.from_list(train_data_sampled)\n",
    "val_dataset = Dataset.from_list(val_data_sampled)\n",
    "test_dataset = Dataset.from_list(test_data_sampled)\n",
    "\n",
    "# Create DatasetDict\n",
    "dataset = DatasetDict({\n",
    "    'train': train_dataset,\n",
    "    'validation': val_dataset,\n",
    "    'test': test_dataset\n",
    "})\n"
   ]
  },
  {
   "cell_type": "code",
   "execution_count": 5,
   "id": "184ff9f4-b73a-4e4d-8316-7169d6e5740e",
   "metadata": {},
   "outputs": [
    {
     "name": "stderr",
     "output_type": "stream",
     "text": [
      "Map: 100%|████████████████████████████████████████████████████████████████| 8000/8000 [00:00<00:00, 8699.73 examples/s]\n",
      "Map: 100%|████████████████████████████████████████████████████████████████| 1500/1500 [00:00<00:00, 9764.54 examples/s]\n",
      "Map: 100%|██████████████████████████████████████████████████████████████████| 500/500 [00:00<00:00, 9284.12 examples/s]\n"
     ]
    }
   ],
   "source": [
    "# Clean Text Function\n",
    "def clean_text(sample):\n",
    "    text = re.sub(r\"[.]{2,}\", \".\", sample['text'])  # Remove multiple dots\n",
    "    text = re.sub(r\"_+\", \"\", text)  # Remove blank spaces or underscores\n",
    "    return {'text': text.strip(), 'title': sample['title'].strip()}\n",
    "\n",
    "# Apply cleaning function\n",
    "dataset = dataset.map(clean_text)"
   ]
  },
  {
   "cell_type": "code",
   "execution_count": 6,
   "id": "a0e58c05-de88-4c51-9598-3bb2d9d7bed1",
   "metadata": {},
   "outputs": [
    {
     "name": "stderr",
     "output_type": "stream",
     "text": [
      "Map: 100%|████████████████████████████████████████████████████████████████| 8000/8000 [00:02<00:00, 2763.19 examples/s]\n",
      "Map: 100%|████████████████████████████████████████████████████████████████| 1500/1500 [00:00<00:00, 2702.34 examples/s]\n",
      "Map: 100%|██████████████████████████████████████████████████████████████████| 500/500 [00:00<00:00, 2421.55 examples/s]\n"
     ]
    }
   ],
   "source": [
    "# Tokenizer & Model - Standard fine-tuning (no LoRA)\n",
    "model_name = \"ai4bharat/IndicBART-XLSum\"\n",
    "tokenizer = AutoTokenizer.from_pretrained(model_name)\n",
    "model = AutoModelForSeq2SeqLM.from_pretrained(model_name)\n",
    "\n",
    "# Tokenize the dataset\n",
    "def preprocess(batch):\n",
    "    inputs = [f\"<2hi> {text}\" for text in batch['text']]\n",
    "    targets = batch['title']\n",
    "    model_inputs = tokenizer(inputs, max_length=512, truncation=True, padding=\"max_length\")\n",
    "    labels = tokenizer(targets, max_length=32, truncation=True, padding=\"max_length\")\n",
    "    model_inputs['labels'] = labels['input_ids']\n",
    "    return model_inputs\n",
    "\n",
    "tokenized = dataset.map(preprocess, batched=True, remove_columns=['id', 'url', 'category'])"
   ]
  },
  {
   "cell_type": "code",
   "execution_count": 7,
   "id": "52e253e1-57ec-4ead-bfef-d94a14cdcf1c",
   "metadata": {},
   "outputs": [
    {
     "name": "stderr",
     "output_type": "stream",
     "text": [
      "[nltk_data] Downloading package wordnet to\n",
      "[nltk_data]     C:\\Users\\Administrator\\AppData\\Roaming\\nltk_data...\n",
      "[nltk_data]   Package wordnet is already up-to-date!\n",
      "[nltk_data] Downloading package punkt_tab to\n",
      "[nltk_data]     C:\\Users\\Administrator\\AppData\\Roaming\\nltk_data...\n",
      "[nltk_data]   Package punkt_tab is already up-to-date!\n",
      "[nltk_data] Downloading package omw-1.4 to\n",
      "[nltk_data]     C:\\Users\\Administrator\\AppData\\Roaming\\nltk_data...\n",
      "[nltk_data]   Package omw-1.4 is already up-to-date!\n"
     ]
    }
   ],
   "source": [
    "import evaluate\n",
    "\n",
    "# Load all metrics\n",
    "rouge = evaluate.load(\"rouge\")\n",
    "bleu = evaluate.load(\"bleu\")\n",
    "meteor = evaluate.load(\"meteor\")\n",
    "bertscore = evaluate.load(\"bertscore\")\n",
    "\n",
    "def compute_metrics(eval_preds):\n",
    "    preds, labels = eval_preds\n",
    "    decoded_preds = tokenizer.batch_decode(preds, skip_special_tokens=True)\n",
    "    decoded_labels = tokenizer.batch_decode(labels, skip_special_tokens=True)\n",
    "\n",
    "    # ROUGE\n",
    "    rouge_result = rouge.compute(predictions=decoded_preds, references=decoded_labels)\n",
    "    \n",
    "    # BLEU\n",
    "    bleu_result = bleu.compute(predictions=decoded_preds, references=decoded_labels)\n",
    "    \n",
    "    # METEOR\n",
    "    meteor_result = meteor.compute(predictions=decoded_preds, references=decoded_labels)\n",
    "    \n",
    "    # BERTScore (language should match your data — \"hi\" for Hindi, \"en\" for English, etc.)\n",
    "    bertscore_result = bertscore.compute(predictions=decoded_preds, references=decoded_labels, lang=\"hi\")\n",
    "\n",
    "    return {\n",
    "        \"rouge1\": rouge_result[\"rouge1\"],\n",
    "        \"rouge2\": rouge_result[\"rouge2\"],\n",
    "        \"rougeL\": rouge_result[\"rougeL\"],\n",
    "        \"bleu\": bleu_result[\"bleu\"],\n",
    "        \"meteor\": meteor_result[\"meteor\"],\n",
    "        \"bertscore_f1\": sum(bertscore_result[\"f1\"]) / len(bertscore_result[\"f1\"])  # average F1 score\n",
    "    }\n"
   ]
  },
  {
   "cell_type": "code",
   "execution_count": 8,
   "id": "da007a5b-27ac-46cb-bb68-5c1359baa3f8",
   "metadata": {},
   "outputs": [
    {
     "name": "stderr",
     "output_type": "stream",
     "text": [
      "C:\\Users\\Administrator\\AppData\\Local\\Temp\\ipykernel_2400\\796200271.py:20: FutureWarning: `tokenizer` is deprecated and will be removed in version 5.0.0 for `Seq2SeqTrainer.__init__`. Use `processing_class` instead.\n",
      "  trainer = Seq2SeqTrainer(\n"
     ]
    }
   ],
   "source": [
    "# Training arguments - Adjusted for standard fine-tuning\n",
    "training_args = Seq2SeqTrainingArguments(\n",
    "    output_dir=\"./indicbart_standard_hindi_copy\",\n",
    "    per_device_train_batch_size=8,  # Reduced batch size due to higher memory requirements\n",
    "    per_device_eval_batch_size=8,\n",
    "    eval_strategy=\"epoch\",  # This parameter is now defined only once\n",
    "    learning_rate=5e-5,  # Lower learning rate for standard fine-tuning\n",
    "    num_train_epochs=15,  # Reduced epochs as standard fine-tuning may converge faster\n",
    "    save_total_limit=2,\n",
    "    predict_with_generate=True,\n",
    "    logging_dir=\"./logs\",\n",
    "    logging_strategy=\"epoch\",\n",
    "    report_to=\"none\",\n",
    "    generation_max_length=32,\n",
    "    # eval_strategy=\"epoch\",  # Removed duplicate parameter\n",
    "    save_strategy=\"epoch\"  # Ensure this is set\n",
    ")\n",
    "\n",
    "# Trainer\n",
    "trainer = Seq2SeqTrainer(\n",
    "    model=model,\n",
    "    args=training_args,\n",
    "    train_dataset=tokenized['train'],\n",
    "    eval_dataset=tokenized['validation'],  # Changed from evaluation_dataset to eval_dataset as per standard API\n",
    "    tokenizer=tokenizer,\n",
    "    data_collator=DataCollatorForSeq2Seq(tokenizer, model=model),\n",
    "    compute_metrics=compute_metrics\n",
    ")  # Added the missing closing parenthesis here"
   ]
  },
  {
   "cell_type": "code",
   "execution_count": 9,
   "id": "b71d480a-8b1c-4ade-b676-78d01e6d24be",
   "metadata": {},
   "outputs": [
    {
     "data": {
      "text/html": [
       "\n",
       "    <div>\n",
       "      \n",
       "      <progress value='15000' max='15000' style='width:300px; height:20px; vertical-align: middle;'></progress>\n",
       "      [15000/15000 20:04:44, Epoch 15/15]\n",
       "    </div>\n",
       "    <table border=\"1\" class=\"dataframe\">\n",
       "  <thead>\n",
       " <tr style=\"text-align: left;\">\n",
       "      <th>Epoch</th>\n",
       "      <th>Training Loss</th>\n",
       "      <th>Validation Loss</th>\n",
       "      <th>Rouge1</th>\n",
       "      <th>Rouge2</th>\n",
       "      <th>Rougel</th>\n",
       "      <th>Bleu</th>\n",
       "      <th>Meteor</th>\n",
       "      <th>Bertscore F1</th>\n",
       "    </tr>\n",
       "  </thead>\n",
       "  <tbody>\n",
       "    <tr>\n",
       "      <td>1</td>\n",
       "      <td>2.479900</td>\n",
       "      <td>1.356638</td>\n",
       "      <td>0.721852</td>\n",
       "      <td>0.428475</td>\n",
       "      <td>0.722079</td>\n",
       "      <td>0.179674</td>\n",
       "      <td>0.349623</td>\n",
       "      <td>0.773702</td>\n",
       "    </tr>\n",
       "    <tr>\n",
       "      <td>2</td>\n",
       "      <td>1.346000</td>\n",
       "      <td>1.265176</td>\n",
       "      <td>0.721605</td>\n",
       "      <td>0.432150</td>\n",
       "      <td>0.721805</td>\n",
       "      <td>0.185069</td>\n",
       "      <td>0.356614</td>\n",
       "      <td>0.776437</td>\n",
       "    </tr>\n",
       "    <tr>\n",
       "      <td>3</td>\n",
       "      <td>1.253500</td>\n",
       "      <td>1.245215</td>\n",
       "      <td>0.717751</td>\n",
       "      <td>0.423967</td>\n",
       "      <td>0.717969</td>\n",
       "      <td>0.188803</td>\n",
       "      <td>0.364404</td>\n",
       "      <td>0.779304</td>\n",
       "    </tr>\n",
       "    <tr>\n",
       "      <td>4</td>\n",
       "      <td>1.201200</td>\n",
       "      <td>1.224095</td>\n",
       "      <td>0.722096</td>\n",
       "      <td>0.431044</td>\n",
       "      <td>0.722309</td>\n",
       "      <td>0.189617</td>\n",
       "      <td>0.365440</td>\n",
       "      <td>0.779940</td>\n",
       "    </tr>\n",
       "    <tr>\n",
       "      <td>5</td>\n",
       "      <td>1.156700</td>\n",
       "      <td>1.215044</td>\n",
       "      <td>0.719816</td>\n",
       "      <td>0.425120</td>\n",
       "      <td>0.719910</td>\n",
       "      <td>0.189801</td>\n",
       "      <td>0.370119</td>\n",
       "      <td>0.780269</td>\n",
       "    </tr>\n",
       "    <tr>\n",
       "      <td>6</td>\n",
       "      <td>1.122900</td>\n",
       "      <td>1.209622</td>\n",
       "      <td>0.721637</td>\n",
       "      <td>0.428969</td>\n",
       "      <td>0.721989</td>\n",
       "      <td>0.191006</td>\n",
       "      <td>0.368134</td>\n",
       "      <td>0.779563</td>\n",
       "    </tr>\n",
       "    <tr>\n",
       "      <td>7</td>\n",
       "      <td>1.095200</td>\n",
       "      <td>1.204990</td>\n",
       "      <td>0.723376</td>\n",
       "      <td>0.436248</td>\n",
       "      <td>0.723407</td>\n",
       "      <td>0.190758</td>\n",
       "      <td>0.371400</td>\n",
       "      <td>0.780702</td>\n",
       "    </tr>\n",
       "    <tr>\n",
       "      <td>8</td>\n",
       "      <td>1.069100</td>\n",
       "      <td>1.200458</td>\n",
       "      <td>0.723878</td>\n",
       "      <td>0.439068</td>\n",
       "      <td>0.724105</td>\n",
       "      <td>0.193782</td>\n",
       "      <td>0.376028</td>\n",
       "      <td>0.782372</td>\n",
       "    </tr>\n",
       "    <tr>\n",
       "      <td>9</td>\n",
       "      <td>1.049200</td>\n",
       "      <td>1.199383</td>\n",
       "      <td>0.725351</td>\n",
       "      <td>0.443857</td>\n",
       "      <td>0.725598</td>\n",
       "      <td>0.190660</td>\n",
       "      <td>0.374585</td>\n",
       "      <td>0.781099</td>\n",
       "    </tr>\n",
       "    <tr>\n",
       "      <td>10</td>\n",
       "      <td>1.031500</td>\n",
       "      <td>1.198199</td>\n",
       "      <td>0.722635</td>\n",
       "      <td>0.436459</td>\n",
       "      <td>0.722602</td>\n",
       "      <td>0.190312</td>\n",
       "      <td>0.373766</td>\n",
       "      <td>0.781127</td>\n",
       "    </tr>\n",
       "    <tr>\n",
       "      <td>11</td>\n",
       "      <td>1.019800</td>\n",
       "      <td>1.198742</td>\n",
       "      <td>0.721904</td>\n",
       "      <td>0.437825</td>\n",
       "      <td>0.722157</td>\n",
       "      <td>0.189870</td>\n",
       "      <td>0.373923</td>\n",
       "      <td>0.780631</td>\n",
       "    </tr>\n",
       "    <tr>\n",
       "      <td>12</td>\n",
       "      <td>1.003800</td>\n",
       "      <td>1.197619</td>\n",
       "      <td>0.720405</td>\n",
       "      <td>0.434042</td>\n",
       "      <td>0.720408</td>\n",
       "      <td>0.188286</td>\n",
       "      <td>0.375386</td>\n",
       "      <td>0.780181</td>\n",
       "    </tr>\n",
       "    <tr>\n",
       "      <td>13</td>\n",
       "      <td>0.997700</td>\n",
       "      <td>1.199923</td>\n",
       "      <td>0.721229</td>\n",
       "      <td>0.434416</td>\n",
       "      <td>0.721391</td>\n",
       "      <td>0.190099</td>\n",
       "      <td>0.377790</td>\n",
       "      <td>0.781334</td>\n",
       "    </tr>\n",
       "    <tr>\n",
       "      <td>14</td>\n",
       "      <td>0.988400</td>\n",
       "      <td>1.199580</td>\n",
       "      <td>0.723664</td>\n",
       "      <td>0.439438</td>\n",
       "      <td>0.723789</td>\n",
       "      <td>0.191520</td>\n",
       "      <td>0.376576</td>\n",
       "      <td>0.781860</td>\n",
       "    </tr>\n",
       "    <tr>\n",
       "      <td>15</td>\n",
       "      <td>0.986300</td>\n",
       "      <td>1.199102</td>\n",
       "      <td>0.723885</td>\n",
       "      <td>0.440175</td>\n",
       "      <td>0.723992</td>\n",
       "      <td>0.191518</td>\n",
       "      <td>0.377339</td>\n",
       "      <td>0.781718</td>\n",
       "    </tr>\n",
       "  </tbody>\n",
       "</table><p>"
      ],
      "text/plain": [
       "<IPython.core.display.HTML object>"
      ]
     },
     "metadata": {},
     "output_type": "display_data"
    }
   ],
   "source": [
    "history = trainer.train()"
   ]
  },
  {
   "cell_type": "code",
   "execution_count": 11,
   "id": "8821952c-d21e-4d1a-8f2d-979482971f9c",
   "metadata": {},
   "outputs": [
    {
     "data": {
      "text/plain": [
       "('./working/checkpoints/indicbart_standard_hindi_final_copy1\\\\tokenizer_config.json',\n",
       " './working/checkpoints/indicbart_standard_hindi_final_copy1\\\\special_tokens_map.json',\n",
       " './working/checkpoints/indicbart_standard_hindi_final_copy1\\\\spiece.model',\n",
       " './working/checkpoints/indicbart_standard_hindi_final_copy1\\\\added_tokens.json',\n",
       " './working/checkpoints/indicbart_standard_hindi_final_copy1\\\\tokenizer.json')"
      ]
     },
     "execution_count": 11,
     "metadata": {},
     "output_type": "execute_result"
    }
   ],
   "source": [
    "# Save the model\n",
    "trainer.save_model(\"./working/checkpoints/indicbart_standard_hindi_final_copy1\")\n",
    "tokenizer.save_pretrained(\"./working/checkpoints/indicbart_standard_hindi_final_copy1\")"
   ]
  },
  {
   "cell_type": "code",
   "execution_count": 12,
   "id": "69029502-9093-485f-8a49-e9aadca1dfea",
   "metadata": {},
   "outputs": [
    {
     "data": {
      "image/png": "[encoded data removed]",
      "text/plain": [
       "<Figure size 640x480 with 1 Axes>"
      ]
     },
     "metadata": {},
     "output_type": "display_data"
    }
   ],
   "source": [
    "import matplotlib.pyplot as plt\n",
    "\n",
    "train_loss = []\n",
    "train_epochs = []\n",
    "val_loss = []\n",
    "val_epochs = []\n",
    "\n",
    "for log in trainer.state.log_history:\n",
    "    if 'loss' in log and 'eval_loss' not in log:\n",
    "        train_loss.append(log['loss'])\n",
    "        train_epochs.append(log.get('epoch', len(train_epochs)))\n",
    "    elif 'eval_loss' in log:\n",
    "        val_loss.append(log['eval_loss'])\n",
    "        val_epochs.append(log.get('epoch', len(val_epochs)))\n",
    "\n",
    "plt.plot(train_epochs, train_loss, label=\"Train Loss\")\n",
    "plt.plot(val_epochs, val_loss, label=\"Val Loss\")\n",
    "plt.xlabel(\"Epoch\")\n",
    "plt.ylabel(\"Loss\")\n",
    "plt.title(\"Training vs Validation Loss\")\n",
    "plt.legend()\n",
    "plt.grid(True)\n",
    "plt.show()"
   ]
  },
  {
   "cell_type": "code",
   "execution_count": 13,
   "id": "9f5b020d-2ac5-4e8e-a2f0-1ea78cafddee",
   "metadata": {},
   "outputs": [],
   "source": [
    "from transformers import AutoTokenizer, AutoModelForSeq2SeqLM\n",
    "\n",
    "model = AutoModelForSeq2SeqLM.from_pretrained(\"C:/Users/Administrator/Desktop/final_project/without lora/working/checkpoints/indicbart_standard_hindi_final_copy1\")\n",
    "tokenizer = AutoTokenizer.from_pretrained(\"C:/Users/Administrator/Desktop/final_project/without lora/working/checkpoints/indicbart_standard_hindi_final_copy1\")"
   ]
  },
  {
   "cell_type": "code",
   "execution_count": 14,
   "id": "d03325ce-3c3f-4601-b706-d27547a8b5d5",
   "metadata": {},
   "outputs": [
    {
     "data": {
      "text/html": [
       "\n",
       "    <div>\n",
       "      \n",
       "      <progress value='63' max='63' style='width:300px; height:20px; vertical-align: middle;'></progress>\n",
       "      [63/63 00:33]\n",
       "    </div>\n",
       "    "
      ],
      "text/plain": [
       "<IPython.core.display.HTML object>"
      ]
     },
     "metadata": {},
     "output_type": "display_data"
    },
    {
     "name": "stdout",
     "output_type": "stream",
     "text": [
      "Test results: {'eval_loss': 3.1922986507415771, 'eval_rouge1': 0.49395793650793645, 'eval_rouge2': 0.32422380952380953, 'eval_rougeL': 0.51970079365079365, 'eval_bleu': 0.1582090184371348, 'eval_meteor': 0.2878668743707685, 'eval_bertscore_f1': 0.7563295886516571, 'eval_runtime': 36.929, 'eval_samples_per_second': 13.54, 'eval_steps_per_second': 1.706, 'epoch': 15.0}\n"
     ]
    }
   ],
   "source": [
    "# Evaluate on test set\n",
    "test_results = trainer.evaluate(tokenized['test'])\n",
    "print(f\"Test results: {test_results}\")\n"
   ]
  },
  {
   "cell_type": "code",
   "execution_count": 15,
   "id": "c101931f-46d9-4919-80cd-1f4750d3f3e0",
   "metadata": {},
   "outputs": [],
   "source": [
    "\n",
    "test_texts = [sample['text'] for sample in dataset['test']]\n",
    "test_titles = [sample['title'] for sample in dataset['test']]\n",
    "\n",
    "\n",
    "def generate_summaries(texts):\n",
    "    summaries = []\n",
    "    for text in texts:\n",
    "        inputs = tokenizer(f\"<2hi> {text}\", max_length=512, truncation=True, padding=\"max_length\", return_tensors=\"pt\")\n",
    "        input_ids = inputs.input_ids.to(model.device)\n",
    "        attention_mask = inputs.attention_mask.to(model.device)\n",
    "        \n",
    "        outputs = model.generate(\n",
    "            input_ids=input_ids,\n",
    "            attention_mask=attention_mask,\n",
    "            max_length=64,\n",
    "            num_beams=4,\n",
    "            early_stopping=True\n",
    "        )\n",
    "        \n",
    "        summary = tokenizer.decode(outputs[0], skip_special_tokens=True)\n",
    "        summaries.append(summary)\n",
    "    return summaries"
   ]
  },
  {
   "cell_type": "code",
   "execution_count": 16,
   "id": "43fc313e-69e1-4e92-991e-afee74cbbb19",
   "metadata": {},
   "outputs": [],
   "source": [
    "preds = generate_summaries(test_texts)"
   ]
  },
  {
   "cell_type": "code",
   "execution_count": 17,
   "id": "ca5d2d3b-1a28-4a2a-870c-04dfa3a92838",
   "metadata": {},
   "outputs": [],
   "source": [
    "# Save predictions to .jsonl file\n",
    "with open(\"predicted_headlines.jsonl_copy\", \"w\", encoding=\"utf-8\") as f:\n",
    "    for i in range(len(preds)):\n",
    "        json.dump({\n",
    "            \"text\": test_texts[i],\n",
    "            \"Actual headline\": test_titles[i],\n",
    "            \"Predicted headline\": preds[i]\n",
    "        }, f, ensure_ascii=False)\n",
    "        f.write(\"\\n\")"
   ]
  },
  {
   "cell_type": "code",
   "execution_count": 18,
   "id": "43f64fff-1b3f-4d9d-85ac-ea25b529b1c3",
   "metadata": {},
   "outputs": [
    {
     "name": "stdout",
     "output_type": "stream",
     "text": [
      "{'text': 'बुधवार को सुनवाई के दौरान जस्टिस एके सीकरी की अध्यक्षता वाली पीठ ने कुमार से आग्रह किया। उस समय कोर्ट में मौजूद कुमार से पीठ ने पूछा कि क्या वह मामले में एमिकस क्यूरी के रूप में सहायता कर सकते हैं। उन्होंने इस आग्रह को स्वीकार कर लिया। पीठ के सामने मामले में एमिकस क्यूरी की नियुक्ति का मामला उठाया गया था। इसके बाद पीठ ने मामले की सुनवाई पांच फरवरी तय कर दी।\\nकोर्ट से मामले में हस्तक्षेप की मांग करते हुए अर्जी दायर करने वाले वकील ने पीठ से कहा कि जगन्नाथ मंदिर के बारे में जानकारी रखने वाले को ही एमिकस के रूप में नियुक्त किया जाए।', 'Actual headline': 'जगन्नाथ मंदिर मामले में सुप्रीम कोर्ट ने रंजित कुमार को एमिकस बनाया', 'Predicted headline': 'जगन्नाथ मंदिर के बारे में जानकारी रखने वाले को एमिकस के रूप में नियुक्त करे सरकार'}\n",
      "{'text': 'अभिनेत्री प्रियंका चोपड़ा ने इंस्टाग्राम पर दिखाया कि उन्हें कॉन्सर्ट नाइट के बाद अपने पॉप स्टार पति निक जोनस को कैसे गले लगाना पसंद है। प्रियंका ने रविवार को अपनी इंस्टाग्राम स्टोरी पर जोनस ब्रदर शो के बाद की अपनी और निक की तस्वीरें साझा की।\\nउन्होंने एक तस्वीर पोस्ट की, जिसमें उन्होंने अपने पति के गले पर हाथ डाल रखा है। इसके कैप्शन में उन्होंने लिखा, \"पोस्ट शो चिल विद बे।\"\\nतस्वीर में जोड़े को सोफे पर बैठा देखा जा सकता है, फोटोग्राफर ने जोड़े की तस्वीर टॉप एंगल से ली है। प्रियंका एक ऑल-ब्लैक पोशाक में नजर आ रही हैं, जबकि निक काला हुडी पहने हुए हैं।\\nहाल ही में, निक ने पहली बार प्रियंका के साथ करवा चौथ मनाया था। उन्होंने कहा था कि उनकी पत्नी हर प्रकार से असाधारण है और उसने उन्हें भारतीय संस्कृति और अपने धर्म के बारे में बहुत कुछ बताया है।', 'Actual headline': 'इस तरह पति निक को गले लगाती हैं प्रियंका चोपड़ा, देखिए तस्वीरें', 'Predicted headline': 'निक जोनस को कैसे गले लगाना पसंद करते हैं प्रियंका चोपड़ा'}\n",
      "{'text': \"रुपेशकुमार गुप्ता, मुंबई। एक्टर बॉबी देओल ने अपनी फिल्म 'पोस्टर ब्वॉयज़' के ट्रेलर लॉन्च के मौके पर कहा कि वह एक अभिनेता के तौर पर प्रतिदिन काम करना चाहते हैं।\\nफिल्म 'पोस्टर ब्वॉयज़' में सनी देओल, बॉबी देओल और श्रेयस तलपड़े अहम भूमिका में हैं। फिल्म को लेकर बॉबी का कहना है कि वो बतौर अभिनेता लगातार काम करना चाहते हैं। गौरतलब है कि बॉबी देओल ने एक इंटरव्यू के दौरान उन्हें इन दिनों काम कम मिलने की बात कही थी। बॉबी देओल कहते हैं, 'एक अभिनेता के तौर पर आप अपने जीवन के प्रत्येक दिन काम करना चाहते हैं। जब मैंने 'पोस्टर ब्वॉयज़' की तब मैं बहुत उत्साहित था। फिल्म की स्क्रिप्ट दमदार थी। मेरी भूमिका बहुत दमदार थी। इस फिल्म के सेट पर काम करना एक नया अनुभव था। प्रत्येक अभिनेता का एक ही डर होता है कि क्या कल उसे काम मिलेगा लेकिन आपको प्रत्येक दिन कड़ी मेहनत करना चाहिए। सकारात्मक रहना चाहिए। इसके साथ ही काम आपके पास आना शुरू हो जाता है। जैसे मैं यहां आपके सामने बैठा हूं और फिल्म के बारे में बात कर रहा हूं।'\\nइस मौके पर बॉबी देओल ने यह भी कहा कि उन्हें पता नहीं लेकिन मीडिया को लगता है एक बड़े अभिनेता का बेटा होने के कारण उन्हें काम आसानी से मिल जाता है। फिल्म 'पोस्टर ब्वॉयज़' का निर्देशन श्रेयस तलपडे़ ने किया है। फिल्म 8 सितंबर को रिलीज़ हो रही है।\", 'Actual headline': 'बॉबी देओल को लगता है डर लेकिन इसे भगाने के लिए रोज़ करते हैं ये काम', 'Predicted headline': \"'पोस्टर ब्वॉयज़' में प्रतिदिन काम करना चाहते हैं बॉबी देओल\"}\n",
      "{'text': 'भोपाल। कथित जासूसी के मामले को लेकर केंद्र सरकार पर किए जा रहे हमलों पर मध्य प्रदेश के मुख्यमंत्री शिवराज सिंह चौहान ने कांग्रेस पर पलटवार किया और कहा कि कांग्रेस का तो इतिहास ही रहा है अपनी पार्टी के नेताओं की जासूसी कराना। मुख्यमंत्री चौहान ने संवाददाताओं से चर्चा करते हुए कहा कि, कांग्रेस का तो इतिहास ही रहा है अपनी ही पार्टी के लोगों की जासूसी कराने का । तीन मूर्ति भवन से लेकर एक, सफरदगंज रोड और 10 जनपथ से लेकर एक सफरदगंज रोड तक रहने वाले सभी नेता जासूसों से घिरे रहे। जासूसी करके ना केवल देश को बल्कि खुद अपनी ही पार्टी को कमजोर करते रहे हैं।\\nमुख्यमंत्री चौहान ने कहा कि इजराइली कंपनी एनएसओ द्वारा बनाए गए सॉफ्टवेयर पेगासस सॉफ्टवेयर के जरिए जासूसी कराने का मामला लोकतंत्र को बदनाम करने की गहरी साजिश है। प्रधानमत्री नरेंद्र मोदी के नेतृत्व में गौरवशाली भारत का निर्माण हो रहा है और कुछ विदेशी ताकतें और कांग्रेस के मित्र उसको पचा नहीं पा रहे हैं।\\nचौैहान का कहना है कि भाजपा शुचिता की राजनीति में विश्वास रखती है और अपने गठन के प्रारंभ से ही राष्ट्र हमारे लिए प्रथम रहा है। कांग्रेस के लिए तो केवल एक परिवार प्रथम भी है और आखिरी भी! ऐसी कांग्रेस, जिसकी राजनीतिक ताकत ही शून्य हो गई हो, उसकी जासूसी करके हम क्या करेंगे!  (आईएएनएस)', 'Actual headline': 'जासूसी से भरा है कांग्रेस का इतिहास : शिवराज', 'Predicted headline': 'कांग्रेस का इतिहास ही रहा है अपनी पार्टी के नेताओं की जासूसी का'}\n",
      "{'text': 'मेड्रिड। रियल मेड्रिड ने स्पेनिश फुटबॉल लीग के 17वें दौर में खेले गए मुकाबले में जीत हासिल करते हुए चिर प्रतिद्वंद्वी क्लब बार्सिलोना के लगातार 39 मुकाबलों में अविजित रहने के रिकॉर्ड की बराबरी कर ली। बीबीसी की रिपोर्ट के अनुसार, रियल ने शनिवार देर रात खेले गए मुकाबले में ग्रेनाडा को 5-0 से मात दी। मुकाबले के पहले हाफ में ही लगातार चार गोल दागने के साथ ही रियल ने यह दर्शा दिया कि वह ग्रेनाडा को आगे बढऩे का एक भी मौका नहीं देगा।\\nपहले हाफ में रियल के लिए इस्को ने 12वें और 31वें मिनट में, करीम बेंजेमा ने 20वें मिनट में और क्रिस्टियानो रोनाल्डो ने 27वें मिनट में गोल किए। दूसरे हाफ में भी ग्रेनाडा को एक भी गोल का मौका न देते हुए रियल ने अपना पांचवां और अंतिम गोल दागा। यह गोल 58वें मिनट में कासेमिरो की ओर से किया गया।\\nईरान की फुटबॉल टीम के कोच ने दिया इस्तीफा\\n[@ धोनी ने T20 और वनडे में कप्तानी से इन 10 रिकॉर्ड में मचाई धूम]', 'Actual headline': 'रियल ने अविजित रहने में की इस क्लब की बराबरी', 'Predicted headline': 'रियल मेड्रिड के 39 मुकाबलों में अविजित रहने के रिकॉर्ड की बराबरी'}\n"
     ]
    }
   ],
   "source": [
    "\n",
    "for i in range(min(5, len(preds))):  \n",
    "    out = {\n",
    "        \"text\": test_texts[i],\n",
    "        \"Actual headline\": test_titles[i],\n",
    "        \"Predicted headline\": preds[i]\n",
    "    }\n",
    "    print(out)"
   ]
  },
  {
   "cell_type": "code",
   "execution_count": null,
   "id": "eb73514a-b613-472e-82ef-e84cad20ff42",
   "metadata": {},
   "outputs": [],
   "source": []
  }
 ],
 "metadata": {
  "kernelspec": {
   "display_name": "Python 3 (ipykernel)",
   "language": "python",
   "name": "python3"
  },
  "language_info": {
   "codemirror_mode": {
    "name": "ipython",
    "version": 3
   },
   "file_extension": ".py",
   "mimetype": "text/x-python",
   "name": "python",
   "nbconvert_exporter": "python",
   "pygments_lexer": "ipython3",
   "version": "3.10.11"
  }
 },
 "nbformat": 4,
 "nbformat_minor": 5
}
